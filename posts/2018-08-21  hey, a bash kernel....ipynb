{
 "cells": [
  {
   "cell_type": "markdown",
   "metadata": {},
   "source": [
    "# hey, a bash kernel...\n",
    "\n",
    "so i'm learning more about jupyter internals and think,\n",
    "\n",
    "```\n",
    "... supports kernels for multiple languages...\n",
    "hey, it'd be cool to have a bash kernel, 'cuz why not?\n",
    "```\n",
    "\n",
    "sure enough: \n",
    "[bash_kernel -- install instructions & source](https://github.com/takluyver/bash_kernel)\n",
    "\n",
    "it's in between scripting and command line.\n",
    "lots of possibilities with this.\n"
   ]
  },
  {
   "cell_type": "code",
   "execution_count": 15,
   "metadata": {},
   "outputs": [
    {
     "name": "stdout",
     "output_type": "stream",
     "text": [
      " 16:33:52 up 1 day, 23 min,  2 users,  load average: 0.16, 0.35, 0.40\n",
      "\n",
      "Tue Aug 21 16:33:52 UTC 2018\n",
      "You are the only person to ever get this message.\n"
     ]
    }
   ],
   "source": [
    "export TZ=UTC\n",
    "uptime ; echo ;  date ; /usr/games/fortune"
   ]
  },
  {
   "cell_type": "code",
   "execution_count": 16,
   "metadata": {
    "scrolled": true
   },
   "outputs": [
    {
     "name": "stdout",
     "output_type": "stream",
     "text": [
      "Server:\t\t127.0.1.1\n",
      "Address:\t127.0.1.1#53\n",
      "\n",
      "Non-authoritative answer:\n",
      "Name:\twikipedia.org\n",
      "Address: 208.80.153.224\n",
      "\n"
     ]
    }
   ],
   "source": [
    "nslookup wikipedia.org"
   ]
  },
  {
   "cell_type": "code",
   "execution_count": 22,
   "metadata": {},
   "outputs": [
    {
     "name": "stdout",
     "output_type": "stream",
     "text": [
      "On branch master\n",
      "Your branch is up-to-date with 'origin/master'.\n",
      "Changes not staged for commit:\n",
      "  (use \"git add <file>...\" to update what will be committed)\n",
      "  (use \"git checkout -- <file>...\" to discard changes in working directory)\n",
      "\n",
      "\t\u001b[31mmodified:   .ipynb_checkpoints/2018-08-21  hey, a bash kernel...-checkpoint.ipynb\u001b[m\n",
      "\t\u001b[31mmodified:   2018-08-21  hey, a bash kernel....ipynb\u001b[m\n",
      "\n",
      "no changes added to commit (use \"git add\" and/or \"git commit -a\")\n"
     ]
    }
   ],
   "source": [
    "git status"
   ]
  },
  {
   "cell_type": "code",
   "execution_count": 23,
   "metadata": {},
   "outputs": [
    {
     "name": "stdout",
     "output_type": "stream",
     "text": [
      "[master 138d563] updated post\n",
      " 2 files changed, 27 insertions(+), 138 deletions(-)\n"
     ]
    }
   ],
   "source": [
    "git commit -a -m 'updated post'"
   ]
  },
  {
   "cell_type": "code",
   "execution_count": 24,
   "metadata": {},
   "outputs": [
    {
     "name": "stdout",
     "output_type": "stream",
     "text": [
      "Counting objects: 5, done.\n",
      "Delta compression using up to 8 threads.\n",
      "Compressing objects: 100% (5/5), done.\n",
      "Writing objects: 100% (5/5), 696 bytes | 0 bytes/s, done.\n",
      "Total 5 (delta 3), reused 0 (delta 0)\n",
      "remote: Resolving deltas: 100% (3/3), completed with 3 local objects.\u001b[K\n",
      "To git@github.com:RobGood/JN.git\n",
      "   8dcb8e1..138d563  master -> master\n"
     ]
    }
   ],
   "source": [
    "git push"
   ]
  },
  {
   "cell_type": "code",
   "execution_count": null,
   "metadata": {},
   "outputs": [],
   "source": [
    "\n"
   ]
  }
 ],
 "metadata": {
  "kernelspec": {
   "display_name": "Bash",
   "language": "bash",
   "name": "bash"
  },
  "language_info": {
   "codemirror_mode": "shell",
   "file_extension": ".sh",
   "mimetype": "text/x-sh",
   "name": "bash"
  }
 },
 "nbformat": 4,
 "nbformat_minor": 2
}
