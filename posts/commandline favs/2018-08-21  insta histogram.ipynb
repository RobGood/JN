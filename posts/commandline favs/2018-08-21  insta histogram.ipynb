{
 "cells": [
  {
   "cell_type": "markdown",
   "metadata": {},
   "source": [
    "## insta histogram\n",
    "\n",
    "```\n",
    "... | sort | uniq -c | sort -n\n",
    "```\n",
    "\n",
    "this fragment produces a sorted count of the distinct lines of input.\n",
    "\n",
    "it would be preceded by commands producing appropriate output\n",
    "(e.g. word from a text, one to a line.)"
   ]
  },
  {
   "cell_type": "markdown",
   "metadata": {},
   "source": [
    "### one\n",
    "let's get a sorted list of word counts for some input."
   ]
  },
  {
   "cell_type": "code",
   "execution_count": 35,
   "metadata": {
    "scrolled": false
   },
   "outputs": [
    {
     "name": "stdout",
     "output_type": "stream",
     "text": [
      "The bay-trees in our country are all wither'd\n",
      "And meteors fright the fixed stars of heaven;\n",
      "The pale-faced moon looks bloody on the earth\n",
      "And lean-look'd prophets whisper fearful change.\n",
      "These signs forerun the death or fall of kings.\n",
      "\t\t-- Wm. Shakespeare, \"Richard II\"\n",
      "      3 the\n",
      "      2 of\n",
      "      2 The\n",
      "      2 And\n",
      "      2 \n",
      "      1 wither'd\n",
      "      1 whisper\n",
      "      1 stars\n",
      "      1 signs\n",
      "      1 prophets\n",
      "      1 pale-faced\n",
      "      1 our\n",
      "      1 or\n",
      "      1 on\n",
      "      1 moon\n",
      "      1 meteors\n",
      "      1 looks\n",
      "      1 lean-look'd\n",
      "      1 kings.\n",
      "      1 in\n",
      "      1 heaven;\n",
      "      1 fright\n",
      "      1 forerun\n",
      "      1 fixed\n",
      "      1 fearful\n",
      "      1 fall\n",
      "      1 earth\n",
      "      1 death\n",
      "      1 country\n",
      "      1 change.\n",
      "      1 bloody\n",
      "      1 bay-trees\n",
      "      1 are\n",
      "      1 all\n",
      "      1 Wm.\n",
      "      1 These\n",
      "      1 Shakespeare,\n",
      "      1 II\"\n",
      "      1 --\n",
      "      1 \"Richard\n"
     ]
    }
   ],
   "source": [
    "/usr/games/fortune -l | \\\n",
    "   tee latest-fortune | \\\n",
    "   tr '[ \\t]' '[\\n\\n]'  \\\n",
    "  | sort | uniq -c |sort -rn    > counts\n",
    "\n",
    "cat latest-fortune counts"
   ]
  },
  {
   "cell_type": "markdown",
   "metadata": {},
   "source": [
    "### two \n",
    "get a sorted count of the letters in the text."
   ]
  },
  {
   "cell_type": "code",
   "execution_count": 3,
   "metadata": {},
   "outputs": [
    {
     "name": "stdout",
     "output_type": "stream",
     "text": [
      "The bay-trees in our country are all wither'd\n",
      "And meteors fright the fixed stars of heaven;\n",
      "The pale-faced moon looks bloody on the earth\n",
      "And lean-look'd prophets whisper fearful change.\n",
      "These signs forerun the death or fall of kings.\n",
      "\t\t-- Wm. Shakespeare, \"Richard II\"\n",
      "     38  \n",
      "     29 e\n",
      "     18 r\n",
      "     18 a\n",
      "     17 o\n",
      "     16 h\n",
      "     15 t\n",
      "     13 s\n",
      "     12 n\n",
      "     10 l\n",
      "     10 i\n",
      "      9 f\n",
      "      9 d\n",
      "      6 \n",
      "      5 p\n",
      "      5 -\n",
      "      4 u\n",
      "      4 k\n",
      "      4 g\n",
      "      4 c\n",
      "      3 y\n",
      "      3 w\n",
      "      3 m\n",
      "      3 .\n",
      "      2 b\n",
      "      2 '\n",
      "      2 \"\n",
      "      2 \t\n",
      "      1 x\n",
      "      1 v\n",
      "      1 ;\n",
      "      1 ,\n"
     ]
    }
   ],
   "source": [
    "perl -nle 's/(.)/$1\\n/g; print' latest-fortune | \\\n",
    "    tr '[A-Z]' '[a-z]' \\\n",
    "  | sort | uniq -c |sort -rn    > counts.2\n",
    "  \n",
    "cat latest-fortune counts.2"
   ]
  },
  {
   "cell_type": "code",
   "execution_count": null,
   "metadata": {},
   "outputs": [],
   "source": []
  }
 ],
 "metadata": {
  "kernelspec": {
   "display_name": "Bash",
   "language": "bash",
   "name": "bash"
  },
  "language_info": {
   "codemirror_mode": "shell",
   "file_extension": ".sh",
   "mimetype": "text/x-sh",
   "name": "bash"
  }
 },
 "nbformat": 4,
 "nbformat_minor": 2
}
