{
 "cells": [
  {
   "cell_type": "markdown",
   "metadata": {},
   "source": [
    "### insta histogram\n",
    "\n",
    "```\n",
    "... | sort | uniq -c |sort -n\n",
    "```"
   ]
  },
  {
   "cell_type": "markdown",
   "metadata": {},
   "source": [
    "let's get a sorted list of word counts for some input."
   ]
  },
  {
   "cell_type": "code",
   "execution_count": 35,
   "metadata": {},
   "outputs": [
    {
     "name": "stdout",
     "output_type": "stream",
     "text": [
      "The bay-trees in our country are all wither'd\n",
      "And meteors fright the fixed stars of heaven;\n",
      "The pale-faced moon looks bloody on the earth\n",
      "And lean-look'd prophets whisper fearful change.\n",
      "These signs forerun the death or fall of kings.\n",
      "\t\t-- Wm. Shakespeare, \"Richard II\"\n",
      "      3 the\n",
      "      2 of\n",
      "      2 The\n",
      "      2 And\n",
      "      2 \n",
      "      1 wither'd\n",
      "      1 whisper\n",
      "      1 stars\n",
      "      1 signs\n",
      "      1 prophets\n",
      "      1 pale-faced\n",
      "      1 our\n",
      "      1 or\n",
      "      1 on\n",
      "      1 moon\n",
      "      1 meteors\n",
      "      1 looks\n",
      "      1 lean-look'd\n",
      "      1 kings.\n",
      "      1 in\n",
      "      1 heaven;\n",
      "      1 fright\n",
      "      1 forerun\n",
      "      1 fixed\n",
      "      1 fearful\n",
      "      1 fall\n",
      "      1 earth\n",
      "      1 death\n",
      "      1 country\n",
      "      1 change.\n",
      "      1 bloody\n",
      "      1 bay-trees\n",
      "      1 are\n",
      "      1 all\n",
      "      1 Wm.\n",
      "      1 These\n",
      "      1 Shakespeare,\n",
      "      1 II\"\n",
      "      1 --\n",
      "      1 \"Richard\n"
     ]
    }
   ],
   "source": [
    "/usr/games/fortune -l | \\\n",
    "   tee latest-fortune | \\\n",
    "   tr '[ \\t]' '[\\n\\n]'  \\\n",
    "  | sort | uniq -c |sort -rn    > counts\n",
    "\n",
    "cat latest-fortune counts"
   ]
  },
  {
   "cell_type": "code",
   "execution_count": null,
   "metadata": {},
   "outputs": [],
   "source": []
  }
 ],
 "metadata": {
  "kernelspec": {
   "display_name": "Bash",
   "language": "bash",
   "name": "bash"
  },
  "language_info": {
   "codemirror_mode": "shell",
   "file_extension": ".sh",
   "mimetype": "text/x-sh",
   "name": "bash"
  }
 },
 "nbformat": 4,
 "nbformat_minor": 2
}
