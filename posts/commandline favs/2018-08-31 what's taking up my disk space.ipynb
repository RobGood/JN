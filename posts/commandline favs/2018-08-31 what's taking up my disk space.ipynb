{
 "cells": [
  {
   "cell_type": "markdown",
   "metadata": {},
   "source": [
    "## what's taking up my disk space?\n",
    "\n",
    "```\n",
    "du [<dir>] | sort -n\n",
    "du [<dir>] | sort -rn > .du\n",
    "```\n",
    "\n",
    "this reports sorted disk usage for each subdirectory"
   ]
  },
  {
   "cell_type": "code",
   "execution_count": 4,
   "metadata": {},
   "outputs": [
    {
     "name": "stdout",
     "output_type": "stream",
     "text": [
      "215272\t/usr/share/fonts\n",
      "219664\t/usr/local/lib\n",
      "225620\t/usr/local\n",
      "242344\t/usr/lib/libreoffice\n",
      "289200\t/usr/bin\n",
      "1061548\t/usr/lib/x86_64-linux-gnu\n",
      "1250092\t/usr/src\n",
      "1382144\t/usr/share\n",
      "2799552\t/usr/lib\n",
      "6132660\t/usr\n"
     ]
    }
   ],
   "source": [
    "du /usr | sort -n \\\n",
    "  | tail -10"
   ]
  },
  {
   "cell_type": "code",
   "execution_count": 5,
   "metadata": {},
   "outputs": [
    {
     "name": "stdout",
     "output_type": "stream",
     "text": [
      "55596\t/usr/share/app-install\n",
      "75184\t/usr/share/fonts/truetype\n",
      "89452\t/usr/share/help\n",
      "99768\t/usr/share/doc\n",
      "110868\t/usr/share/locale\n",
      "123072\t/usr/share/fonts/opentype/noto\n",
      "125916\t/usr/share/fonts/opentype\n",
      "168140\t/usr/share/icons\n",
      "215272\t/usr/share/fonts\n",
      "1382144\t/usr/share\n"
     ]
    }
   ],
   "source": [
    "du /usr/share | sort -n \\\n",
    "  | tail -10"
   ]
  },
  {
   "cell_type": "code",
   "execution_count": 6,
   "metadata": {},
   "outputs": [
    {
     "name": "stdout",
     "output_type": "stream",
     "text": [
      "116928\t/usr/lib/jvm/java-8-openjdk-amd64\n",
      "116936\t/usr/lib/jvm\n",
      "149960\t/usr/lib/nvidia-384\n",
      "164276\t/usr/lib/ocaml\n",
      "165000\t/usr/lib/firefox\n",
      "189252\t/usr/lib/libreoffice/program\n",
      "213620\t/usr/lib/chromium-browser\n",
      "242344\t/usr/lib/libreoffice\n",
      "1061548\t/usr/lib/x86_64-linux-gnu\n",
      "2799552\t/usr/lib\n"
     ]
    }
   ],
   "source": [
    "du /usr/lib | sort -n \\\n",
    "  | tail -10"
   ]
  }
 ],
 "metadata": {
  "kernelspec": {
   "display_name": "Bash",
   "language": "bash",
   "name": "bash"
  },
  "language_info": {
   "codemirror_mode": "shell",
   "file_extension": ".sh",
   "mimetype": "text/x-sh",
   "name": "bash"
  }
 },
 "nbformat": 4,
 "nbformat_minor": 2
}
